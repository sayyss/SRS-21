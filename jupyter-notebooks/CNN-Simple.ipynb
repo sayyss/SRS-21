{
 "cells": [
  {
   "cell_type": "code",
   "execution_count": 11,
   "id": "088af9ec",
   "metadata": {},
   "outputs": [],
   "source": [
    "import torch\n",
    "import torch.nn as nn\n",
    "import torch.nn.functional as F\n",
    "from torchvision import datasets\n",
    "import torchvision.transforms as transforms\n",
    "import torchvision\n",
    "from torch import optim\n",
    "import json\n",
    "import numpy as np\n",
    "import pandas as pd\n",
    "import matplotlib.pyplot as plt\n",
    "import os\n",
    "from pathlib import Path\n",
    "from torch.utils.data import DataLoader\n",
    "from arc_vae.data_loader import Tasks,torchify, Grids, Grids_n\n",
    "from arc_vae.vae.models import vae\n",
    "from arc_vae.vae.models import losses\n",
    "import torch.nn.functional as F\n",
    "from arc_vae.vae import training\n",
    "from arc_vae.utils import arc_to_image, visualize_grids"
   ]
  },
  {
   "cell_type": "code",
   "execution_count": 21,
   "id": "e351df57",
   "metadata": {},
   "outputs": [],
   "source": [
    "def get_dataloader(batch_size, eval=False):\n",
    "    \n",
    "    tasks = Grids(eval=eval)\n",
    "    loader = DataLoader(tasks, batch_size=batch_size, drop_last=True)\n",
    "    \n",
    "    return loader"
   ]
  },
  {
   "cell_type": "code",
   "execution_count": 30,
   "id": "025bc1eb",
   "metadata": {},
   "outputs": [],
   "source": [
    "class Model(nn.Module):\n",
    "    \n",
    "    def __init__(self):\n",
    "        \n",
    "        super(Model, self).__init__()\n",
    "        self.conv1 = nn.Conv2d(in_channels=11,out_channels=11,kernel_size=5, padding=2)\n",
    "    \n",
    "    def forward(self,x):\n",
    "        \n",
    "        x = self.conv1(x)\n",
    "        return x"
   ]
  },
  {
   "cell_type": "code",
   "execution_count": 31,
   "id": "bafcd5d1",
   "metadata": {},
   "outputs": [],
   "source": [
    "\n",
    "def get_optimizer(learning_rate, model):\n",
    "    \n",
    "    return optim.Adam(model.parameters(), lr=learning_rate)"
   ]
  },
  {
   "cell_type": "code",
   "execution_count": 32,
   "id": "0ea7229e",
   "metadata": {},
   "outputs": [],
   "source": [
    "def get_model():\n",
    "    \n",
    "    model = Model()\n",
    "    model.cuda()\n",
    "    return model\n",
    "\n",
    "def weight_reset(m):\n",
    "    \n",
    "    if isinstance(m, nn.Conv2d) or isinstance(m, nn.Linear) or isinstance(m,nn.ConvTranspose2d):\n",
    "        m.reset_parameters()\n",
    "\n",
    "def get_optimizer(learning_rate, model):\n",
    "    \n",
    "    return optim.Adam(model.parameters(), lr=learning_rate)\n",
    "\n",
    "def train(model, data_loader, optimizer, epochs):\n",
    "    \n",
    "    loss_func = nn.MSELoss()\n",
    "    \n",
    "    for epoch in range(epochs):\n",
    "        \n",
    "        for data in data_loader:\n",
    "            inputs,outputs = data\n",
    "            inputs,outputs = inputs.cuda(),outputs.cuda()\n",
    "\n",
    "\n",
    "            #outputs = float_long(outputs.cpu())\n",
    "            optimizer.zero_grad()\n",
    "            results = model(inputs)\n",
    "\n",
    "            loss = loss_func(results, outputs)\n",
    "            loss.backward()\n",
    "            optimizer.step()\n",
    "        \n",
    "        print(f'epoch: {epoch}, loss: {loss}')\n"
   ]
  },
  {
   "cell_type": "code",
   "execution_count": 33,
   "id": "384fc5e1",
   "metadata": {},
   "outputs": [],
   "source": [
    "def main():\n",
    "    epochs = 30\n",
    "    batch_size = 512\n",
    "    learning_rate = 0.01\n",
    "    train_loader = get_dataloader(batch_size = 512)\n",
    "    model = get_model()\n",
    "    optimizer = get_optimizer(learning_rate, model)\n",
    "    \n",
    "    model.apply(weight_reset)\n",
    "    train(model, train_loader, optimizer, epochs)"
   ]
  },
  {
   "cell_type": "code",
   "execution_count": 34,
   "id": "8ae2b9d3",
   "metadata": {},
   "outputs": [
    {
     "name": "stdout",
     "output_type": "stream",
     "text": [
      "epoch: 0, loss: 0.043220195919275284\n",
      "epoch: 1, loss: 0.043088044971227646\n",
      "epoch: 2, loss: 0.04308008402585983\n",
      "epoch: 3, loss: 0.04308795556426048\n",
      "epoch: 4, loss: 0.04309931397438049\n",
      "epoch: 5, loss: 0.043109726160764694\n",
      "epoch: 6, loss: 0.043117962777614594\n",
      "epoch: 7, loss: 0.043124161660671234\n",
      "epoch: 8, loss: 0.04312873259186745\n",
      "epoch: 9, loss: 0.04313206672668457\n",
      "epoch: 10, loss: 0.043134499341249466\n",
      "epoch: 11, loss: 0.04313626140356064\n",
      "epoch: 12, loss: 0.04313753545284271\n",
      "epoch: 13, loss: 0.04313845559954643\n",
      "epoch: 14, loss: 0.04313911870121956\n",
      "epoch: 15, loss: 0.043139588087797165\n",
      "epoch: 16, loss: 0.043139927089214325\n",
      "epoch: 17, loss: 0.04314015805721283\n",
      "epoch: 18, loss: 0.04314032196998596\n",
      "epoch: 19, loss: 0.043140437453985214\n",
      "epoch: 20, loss: 0.043140508234500885\n",
      "epoch: 21, loss: 0.04314056411385536\n",
      "epoch: 22, loss: 0.04314059019088745\n",
      "epoch: 23, loss: 0.04314061254262924\n",
      "epoch: 24, loss: 0.04314061999320984\n",
      "epoch: 25, loss: 0.043140627443790436\n",
      "epoch: 26, loss: 0.043140627443790436\n",
      "epoch: 27, loss: 0.043140627443790436\n",
      "epoch: 28, loss: 0.043140627443790436\n",
      "epoch: 29, loss: 0.04314062371850014\n"
     ]
    }
   ],
   "source": [
    "if __name__ == \"__main__\":\n",
    "    main()"
   ]
  },
  {
   "cell_type": "code",
   "execution_count": null,
   "id": "a87b3659",
   "metadata": {},
   "outputs": [],
   "source": []
  },
  {
   "cell_type": "code",
   "execution_count": null,
   "id": "cef51e2c",
   "metadata": {},
   "outputs": [],
   "source": []
  }
 ],
 "metadata": {
  "kernelspec": {
   "display_name": "Python 3",
   "language": "python",
   "name": "python3"
  },
  "language_info": {
   "codemirror_mode": {
    "name": "ipython",
    "version": 3
   },
   "file_extension": ".py",
   "mimetype": "text/x-python",
   "name": "python",
   "nbconvert_exporter": "python",
   "pygments_lexer": "ipython3",
   "version": "3.9.6"
  }
 },
 "nbformat": 4,
 "nbformat_minor": 5
}
